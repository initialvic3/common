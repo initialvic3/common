{
  "nbformat": 4,
  "nbformat_minor": 0,
  "metadata": {
    "colab": {
      "name": "test-pandas.ipynb",
      "provenance": [],
      "authorship_tag": "ABX9TyPBp5rYgK/Y6hnhM/rz2Mxj",
      "include_colab_link": true
    },
    "kernelspec": {
      "name": "python3",
      "display_name": "Python 3"
    }
  },
  "cells": [
    {
      "cell_type": "markdown",
      "metadata": {
        "id": "view-in-github",
        "colab_type": "text"
      },
      "source": [
        "<a href=\"https://colab.research.google.com/github/initialvic3/common/blob/master/test_pandas.ipynb\" target=\"_parent\"><img src=\"https://colab.research.google.com/assets/colab-badge.svg\" alt=\"Open In Colab\"/></a>"
      ]
    },
    {
      "cell_type": "code",
      "metadata": {
        "id": "h9HWZGJdDUmU"
      },
      "source": [
        " import numpy as np\n",
        " import pandas as pd"
      ],
      "execution_count": null,
      "outputs": []
    },
    {
      "cell_type": "code",
      "metadata": {
        "colab": {
          "base_uri": "https://localhost:8080/"
        },
        "id": "RwDdZS7GDzsD",
        "outputId": "cfba2a23-825f-45b5-ffbc-a016ed0b6607"
      },
      "source": [
        "s = pd.Series([1, 3, 5, np.nan, 6, 8])\n",
        "s"
      ],
      "execution_count": null,
      "outputs": [
        {
          "output_type": "execute_result",
          "data": {
            "text/plain": [
              "0    1.0\n",
              "1    3.0\n",
              "2    5.0\n",
              "3    NaN\n",
              "4    6.0\n",
              "5    8.0\n",
              "dtype: float64"
            ]
          },
          "metadata": {
            "tags": []
          },
          "execution_count": 3
        }
      ]
    },
    {
      "cell_type": "code",
      "metadata": {
        "colab": {
          "base_uri": "https://localhost:8080/"
        },
        "id": "-l_bK7EqD8AK",
        "outputId": "11d19a38-48f6-4520-bafc-c2d986d4b799"
      },
      "source": [
        "dates = pd.date_range(\"20130101\", periods=6)\n",
        "dates"
      ],
      "execution_count": null,
      "outputs": [
        {
          "output_type": "execute_result",
          "data": {
            "text/plain": [
              "DatetimeIndex(['2013-01-01', '2013-01-02', '2013-01-03', '2013-01-04',\n",
              "               '2013-01-05', '2013-01-06'],\n",
              "              dtype='datetime64[ns]', freq='D')"
            ]
          },
          "metadata": {
            "tags": []
          },
          "execution_count": 5
        }
      ]
    },
    {
      "cell_type": "markdown",
      "metadata": {
        "id": "3bYEWU2kHrdT"
      },
      "source": [
        "Or data frames can be created from dicts (column: [data])  "
      ]
    },
    {
      "cell_type": "code",
      "metadata": {
        "colab": {
          "base_uri": "https://localhost:8080/",
          "height": 204
        },
        "id": "BlE6qH5oJKuq",
        "outputId": "c13587ff-453b-4fc5-e89f-92a44f9fecf7"
      },
      "source": [
        "df2.head()"
      ],
      "execution_count": null,
      "outputs": [
        {
          "output_type": "execute_result",
          "data": {
            "text/html": [
              "<div>\n",
              "<style scoped>\n",
              "    .dataframe tbody tr th:only-of-type {\n",
              "        vertical-align: middle;\n",
              "    }\n",
              "\n",
              "    .dataframe tbody tr th {\n",
              "        vertical-align: top;\n",
              "    }\n",
              "\n",
              "    .dataframe thead th {\n",
              "        text-align: right;\n",
              "    }\n",
              "</style>\n",
              "<table border=\"1\" class=\"dataframe\">\n",
              "  <thead>\n",
              "    <tr style=\"text-align: right;\">\n",
              "      <th></th>\n",
              "      <th>column1</th>\n",
              "      <th>column2</th>\n",
              "      <th>column3</th>\n",
              "      <th>D</th>\n",
              "      <th>E</th>\n",
              "    </tr>\n",
              "  </thead>\n",
              "  <tbody>\n",
              "    <tr>\n",
              "      <th>0</th>\n",
              "      <td>1.0</td>\n",
              "      <td>2013-01-02</td>\n",
              "      <td>1.0</td>\n",
              "      <td>test</td>\n",
              "      <td>3</td>\n",
              "    </tr>\n",
              "    <tr>\n",
              "      <th>1</th>\n",
              "      <td>1.0</td>\n",
              "      <td>2013-01-02</td>\n",
              "      <td>1.0</td>\n",
              "      <td>train</td>\n",
              "      <td>3</td>\n",
              "    </tr>\n",
              "    <tr>\n",
              "      <th>2</th>\n",
              "      <td>1.0</td>\n",
              "      <td>2013-01-02</td>\n",
              "      <td>1.0</td>\n",
              "      <td>test</td>\n",
              "      <td>3</td>\n",
              "    </tr>\n",
              "    <tr>\n",
              "      <th>3</th>\n",
              "      <td>1.0</td>\n",
              "      <td>2013-01-02</td>\n",
              "      <td>1.0</td>\n",
              "      <td>train</td>\n",
              "      <td>3</td>\n",
              "    </tr>\n",
              "    <tr>\n",
              "      <th>4</th>\n",
              "      <td>1.0</td>\n",
              "      <td>2013-01-02</td>\n",
              "      <td>1.0</td>\n",
              "      <td>test</td>\n",
              "      <td>3</td>\n",
              "    </tr>\n",
              "  </tbody>\n",
              "</table>\n",
              "</div>"
            ],
            "text/plain": [
              "   column1    column2  column3      D  E\n",
              "0      1.0 2013-01-02      1.0   test  3\n",
              "1      1.0 2013-01-02      1.0  train  3\n",
              "2      1.0 2013-01-02      1.0   test  3\n",
              "3      1.0 2013-01-02      1.0  train  3\n",
              "4      1.0 2013-01-02      1.0   test  3"
            ]
          },
          "metadata": {
            "tags": []
          },
          "execution_count": 19
        }
      ]
    },
    {
      "cell_type": "code",
      "metadata": {
        "colab": {
          "base_uri": "https://localhost:8080/",
          "height": 204
        },
        "id": "sWj05r5xJME1",
        "outputId": "bc33a739-5c55-46a9-8494-7b2b9b71e613"
      },
      "source": [
        "df.tail()"
      ],
      "execution_count": null,
      "outputs": [
        {
          "output_type": "execute_result",
          "data": {
            "text/html": [
              "<div>\n",
              "<style scoped>\n",
              "    .dataframe tbody tr th:only-of-type {\n",
              "        vertical-align: middle;\n",
              "    }\n",
              "\n",
              "    .dataframe tbody tr th {\n",
              "        vertical-align: top;\n",
              "    }\n",
              "\n",
              "    .dataframe thead th {\n",
              "        text-align: right;\n",
              "    }\n",
              "</style>\n",
              "<table border=\"1\" class=\"dataframe\">\n",
              "  <thead>\n",
              "    <tr style=\"text-align: right;\">\n",
              "      <th></th>\n",
              "      <th>A</th>\n",
              "      <th>B</th>\n",
              "      <th>C</th>\n",
              "      <th>D</th>\n",
              "    </tr>\n",
              "  </thead>\n",
              "  <tbody>\n",
              "    <tr>\n",
              "      <th>2013-01-02</th>\n",
              "      <td>0.105539</td>\n",
              "      <td>0.078794</td>\n",
              "      <td>1.098312</td>\n",
              "      <td>1.113292</td>\n",
              "    </tr>\n",
              "    <tr>\n",
              "      <th>2013-01-03</th>\n",
              "      <td>-1.356984</td>\n",
              "      <td>1.244463</td>\n",
              "      <td>-0.626774</td>\n",
              "      <td>-0.825351</td>\n",
              "    </tr>\n",
              "    <tr>\n",
              "      <th>2013-01-04</th>\n",
              "      <td>-0.189933</td>\n",
              "      <td>0.522450</td>\n",
              "      <td>0.367692</td>\n",
              "      <td>0.033291</td>\n",
              "    </tr>\n",
              "    <tr>\n",
              "      <th>2013-01-05</th>\n",
              "      <td>-0.804062</td>\n",
              "      <td>-0.999743</td>\n",
              "      <td>-1.526051</td>\n",
              "      <td>0.205713</td>\n",
              "    </tr>\n",
              "    <tr>\n",
              "      <th>2013-01-06</th>\n",
              "      <td>0.185419</td>\n",
              "      <td>0.248440</td>\n",
              "      <td>-0.545958</td>\n",
              "      <td>-1.128638</td>\n",
              "    </tr>\n",
              "  </tbody>\n",
              "</table>\n",
              "</div>"
            ],
            "text/plain": [
              "                   A         B         C         D\n",
              "2013-01-02  0.105539  0.078794  1.098312  1.113292\n",
              "2013-01-03 -1.356984  1.244463 -0.626774 -0.825351\n",
              "2013-01-04 -0.189933  0.522450  0.367692  0.033291\n",
              "2013-01-05 -0.804062 -0.999743 -1.526051  0.205713\n",
              "2013-01-06  0.185419  0.248440 -0.545958 -1.128638"
            ]
          },
          "metadata": {
            "tags": []
          },
          "execution_count": 20
        }
      ]
    },
    {
      "cell_type": "code",
      "metadata": {
        "colab": {
          "base_uri": "https://localhost:8080/"
        },
        "id": "3nxQNdhrJOD6",
        "outputId": "9e7d3a1a-10e3-4c9b-c363-8008839b57fa"
      },
      "source": [
        "df2.index"
      ],
      "execution_count": null,
      "outputs": [
        {
          "output_type": "execute_result",
          "data": {
            "text/plain": [
              "Int64Index([0, 1, 2, 3, 4, 5, 6, 7, 8, 9], dtype='int64')"
            ]
          },
          "metadata": {
            "tags": []
          },
          "execution_count": 21
        }
      ]
    },
    {
      "cell_type": "code",
      "metadata": {
        "colab": {
          "base_uri": "https://localhost:8080/"
        },
        "id": "sf0Jx98oJUc4",
        "outputId": "9bf2c346-2169-4718-fd4d-c68ddde4f871"
      },
      "source": [
        "df2.columns"
      ],
      "execution_count": null,
      "outputs": [
        {
          "output_type": "execute_result",
          "data": {
            "text/plain": [
              "Index(['column1', 'column2', 'column3', 'D', 'E'], dtype='object')"
            ]
          },
          "metadata": {
            "tags": []
          },
          "execution_count": 22
        }
      ]
    },
    {
      "cell_type": "code",
      "metadata": {
        "colab": {
          "base_uri": "https://localhost:8080/"
        },
        "id": "6WvFpuVfJV1r",
        "outputId": "b703b3af-f066-4eaa-939e-7bbcb145a26a"
      },
      "source": [
        "df.to_numpy()"
      ],
      "execution_count": null,
      "outputs": [
        {
          "output_type": "execute_result",
          "data": {
            "text/plain": [
              "array([[ 0.29230211,  1.79928569, -0.05123608, -1.20082378],\n",
              "       [ 0.10553877,  0.07879448,  1.09831159,  1.11329245],\n",
              "       [-1.35698442,  1.24446271, -0.62677443, -0.82535094],\n",
              "       [-0.18993252,  0.52244955,  0.36769173,  0.03329123],\n",
              "       [-0.8040621 , -0.999743  , -1.52605111,  0.20571257],\n",
              "       [ 0.1854194 ,  0.24843996, -0.54595758, -1.12863843]])"
            ]
          },
          "metadata": {
            "tags": []
          },
          "execution_count": 23
        }
      ]
    },
    {
      "cell_type": "code",
      "metadata": {
        "colab": {
          "base_uri": "https://localhost:8080/"
        },
        "id": "yu1dwAcKKNxz",
        "outputId": "6a24b622-4f6e-4a0a-dbb7-c1c1feeedd0c"
      },
      "source": [
        "df2.to_numpy()"
      ],
      "execution_count": null,
      "outputs": [
        {
          "output_type": "execute_result",
          "data": {
            "text/plain": [
              "array([[1.0, Timestamp('2013-01-02 00:00:00'), 1.0, 'test', 3],\n",
              "       [1.0, Timestamp('2013-01-02 00:00:00'), 1.0, 'train', 3],\n",
              "       [1.0, Timestamp('2013-01-02 00:00:00'), 1.0, 'test', 3],\n",
              "       [1.0, Timestamp('2013-01-02 00:00:00'), 1.0, 'train', 3],\n",
              "       [1.0, Timestamp('2013-01-02 00:00:00'), 1.0, 'test', 3],\n",
              "       [1.0, Timestamp('2013-01-02 00:00:00'), 1.0, 'train', 3],\n",
              "       [1.0, Timestamp('2013-01-02 00:00:00'), 1.0, 'test', 3],\n",
              "       [1.0, Timestamp('2013-01-02 00:00:00'), 1.0, 'train', 3],\n",
              "       [1.0, Timestamp('2013-01-02 00:00:00'), 1.0, 'test', 3],\n",
              "       [1.0, Timestamp('2013-01-02 00:00:00'), 1.0, 'train', 3]],\n",
              "      dtype=object)"
            ]
          },
          "metadata": {
            "tags": []
          },
          "execution_count": 24
        }
      ]
    },
    {
      "cell_type": "code",
      "metadata": {
        "colab": {
          "base_uri": "https://localhost:8080/",
          "height": 297
        },
        "id": "5is8mzdVKVwg",
        "outputId": "6ffb095d-11ab-40a6-859f-675ef5092f5d"
      },
      "source": [
        "df.describe()"
      ],
      "execution_count": null,
      "outputs": [
        {
          "output_type": "execute_result",
          "data": {
            "text/html": [
              "<div>\n",
              "<style scoped>\n",
              "    .dataframe tbody tr th:only-of-type {\n",
              "        vertical-align: middle;\n",
              "    }\n",
              "\n",
              "    .dataframe tbody tr th {\n",
              "        vertical-align: top;\n",
              "    }\n",
              "\n",
              "    .dataframe thead th {\n",
              "        text-align: right;\n",
              "    }\n",
              "</style>\n",
              "<table border=\"1\" class=\"dataframe\">\n",
              "  <thead>\n",
              "    <tr style=\"text-align: right;\">\n",
              "      <th></th>\n",
              "      <th>A</th>\n",
              "      <th>B</th>\n",
              "      <th>C</th>\n",
              "      <th>D</th>\n",
              "    </tr>\n",
              "  </thead>\n",
              "  <tbody>\n",
              "    <tr>\n",
              "      <th>count</th>\n",
              "      <td>6.000000</td>\n",
              "      <td>6.000000</td>\n",
              "      <td>6.000000</td>\n",
              "      <td>6.000000</td>\n",
              "    </tr>\n",
              "    <tr>\n",
              "      <th>mean</th>\n",
              "      <td>-0.294620</td>\n",
              "      <td>0.482282</td>\n",
              "      <td>-0.214003</td>\n",
              "      <td>-0.300419</td>\n",
              "    </tr>\n",
              "    <tr>\n",
              "      <th>std</th>\n",
              "      <td>0.653322</td>\n",
              "      <td>0.972719</td>\n",
              "      <td>0.904331</td>\n",
              "      <td>0.909763</td>\n",
              "    </tr>\n",
              "    <tr>\n",
              "      <th>min</th>\n",
              "      <td>-1.356984</td>\n",
              "      <td>-0.999743</td>\n",
              "      <td>-1.526051</td>\n",
              "      <td>-1.200824</td>\n",
              "    </tr>\n",
              "    <tr>\n",
              "      <th>25%</th>\n",
              "      <td>-0.650530</td>\n",
              "      <td>0.121206</td>\n",
              "      <td>-0.606570</td>\n",
              "      <td>-1.052817</td>\n",
              "    </tr>\n",
              "    <tr>\n",
              "      <th>50%</th>\n",
              "      <td>-0.042197</td>\n",
              "      <td>0.385445</td>\n",
              "      <td>-0.298597</td>\n",
              "      <td>-0.396030</td>\n",
              "    </tr>\n",
              "    <tr>\n",
              "      <th>75%</th>\n",
              "      <td>0.165449</td>\n",
              "      <td>1.063959</td>\n",
              "      <td>0.262960</td>\n",
              "      <td>0.162607</td>\n",
              "    </tr>\n",
              "    <tr>\n",
              "      <th>max</th>\n",
              "      <td>0.292302</td>\n",
              "      <td>1.799286</td>\n",
              "      <td>1.098312</td>\n",
              "      <td>1.113292</td>\n",
              "    </tr>\n",
              "  </tbody>\n",
              "</table>\n",
              "</div>"
            ],
            "text/plain": [
              "              A         B         C         D\n",
              "count  6.000000  6.000000  6.000000  6.000000\n",
              "mean  -0.294620  0.482282 -0.214003 -0.300419\n",
              "std    0.653322  0.972719  0.904331  0.909763\n",
              "min   -1.356984 -0.999743 -1.526051 -1.200824\n",
              "25%   -0.650530  0.121206 -0.606570 -1.052817\n",
              "50%   -0.042197  0.385445 -0.298597 -0.396030\n",
              "75%    0.165449  1.063959  0.262960  0.162607\n",
              "max    0.292302  1.799286  1.098312  1.113292"
            ]
          },
          "metadata": {
            "tags": []
          },
          "execution_count": 25
        }
      ]
    },
    {
      "cell_type": "code",
      "metadata": {
        "colab": {
          "base_uri": "https://localhost:8080/",
          "height": 235
        },
        "id": "JlSgksGAKXzi",
        "outputId": "0fa9e904-cf14-4a7e-b412-fb1804da3558"
      },
      "source": [
        "df.T.T"
      ],
      "execution_count": null,
      "outputs": [
        {
          "output_type": "execute_result",
          "data": {
            "text/html": [
              "<div>\n",
              "<style scoped>\n",
              "    .dataframe tbody tr th:only-of-type {\n",
              "        vertical-align: middle;\n",
              "    }\n",
              "\n",
              "    .dataframe tbody tr th {\n",
              "        vertical-align: top;\n",
              "    }\n",
              "\n",
              "    .dataframe thead th {\n",
              "        text-align: right;\n",
              "    }\n",
              "</style>\n",
              "<table border=\"1\" class=\"dataframe\">\n",
              "  <thead>\n",
              "    <tr style=\"text-align: right;\">\n",
              "      <th></th>\n",
              "      <th>A</th>\n",
              "      <th>B</th>\n",
              "      <th>C</th>\n",
              "      <th>D</th>\n",
              "    </tr>\n",
              "  </thead>\n",
              "  <tbody>\n",
              "    <tr>\n",
              "      <th>2013-01-01</th>\n",
              "      <td>0.292302</td>\n",
              "      <td>1.799286</td>\n",
              "      <td>-0.051236</td>\n",
              "      <td>-1.200824</td>\n",
              "    </tr>\n",
              "    <tr>\n",
              "      <th>2013-01-02</th>\n",
              "      <td>0.105539</td>\n",
              "      <td>0.078794</td>\n",
              "      <td>1.098312</td>\n",
              "      <td>1.113292</td>\n",
              "    </tr>\n",
              "    <tr>\n",
              "      <th>2013-01-03</th>\n",
              "      <td>-1.356984</td>\n",
              "      <td>1.244463</td>\n",
              "      <td>-0.626774</td>\n",
              "      <td>-0.825351</td>\n",
              "    </tr>\n",
              "    <tr>\n",
              "      <th>2013-01-04</th>\n",
              "      <td>-0.189933</td>\n",
              "      <td>0.522450</td>\n",
              "      <td>0.367692</td>\n",
              "      <td>0.033291</td>\n",
              "    </tr>\n",
              "    <tr>\n",
              "      <th>2013-01-05</th>\n",
              "      <td>-0.804062</td>\n",
              "      <td>-0.999743</td>\n",
              "      <td>-1.526051</td>\n",
              "      <td>0.205713</td>\n",
              "    </tr>\n",
              "    <tr>\n",
              "      <th>2013-01-06</th>\n",
              "      <td>0.185419</td>\n",
              "      <td>0.248440</td>\n",
              "      <td>-0.545958</td>\n",
              "      <td>-1.128638</td>\n",
              "    </tr>\n",
              "  </tbody>\n",
              "</table>\n",
              "</div>"
            ],
            "text/plain": [
              "                   A         B         C         D\n",
              "2013-01-01  0.292302  1.799286 -0.051236 -1.200824\n",
              "2013-01-02  0.105539  0.078794  1.098312  1.113292\n",
              "2013-01-03 -1.356984  1.244463 -0.626774 -0.825351\n",
              "2013-01-04 -0.189933  0.522450  0.367692  0.033291\n",
              "2013-01-05 -0.804062 -0.999743 -1.526051  0.205713\n",
              "2013-01-06  0.185419  0.248440 -0.545958 -1.128638"
            ]
          },
          "metadata": {
            "tags": []
          },
          "execution_count": 27
        }
      ]
    },
    {
      "cell_type": "code",
      "metadata": {
        "colab": {
          "base_uri": "https://localhost:8080/",
          "height": 235
        },
        "id": "1dNC6mBBLOxj",
        "outputId": "07f33850-2e22-4db3-c198-347daeac28de"
      },
      "source": [
        "df.sort_index(axis=1, ascending=False)"
      ],
      "execution_count": null,
      "outputs": [
        {
          "output_type": "execute_result",
          "data": {
            "text/html": [
              "<div>\n",
              "<style scoped>\n",
              "    .dataframe tbody tr th:only-of-type {\n",
              "        vertical-align: middle;\n",
              "    }\n",
              "\n",
              "    .dataframe tbody tr th {\n",
              "        vertical-align: top;\n",
              "    }\n",
              "\n",
              "    .dataframe thead th {\n",
              "        text-align: right;\n",
              "    }\n",
              "</style>\n",
              "<table border=\"1\" class=\"dataframe\">\n",
              "  <thead>\n",
              "    <tr style=\"text-align: right;\">\n",
              "      <th></th>\n",
              "      <th>D</th>\n",
              "      <th>C</th>\n",
              "      <th>B</th>\n",
              "      <th>A</th>\n",
              "    </tr>\n",
              "  </thead>\n",
              "  <tbody>\n",
              "    <tr>\n",
              "      <th>2013-01-01</th>\n",
              "      <td>-1.200824</td>\n",
              "      <td>-0.051236</td>\n",
              "      <td>1.799286</td>\n",
              "      <td>0.292302</td>\n",
              "    </tr>\n",
              "    <tr>\n",
              "      <th>2013-01-02</th>\n",
              "      <td>1.113292</td>\n",
              "      <td>1.098312</td>\n",
              "      <td>0.078794</td>\n",
              "      <td>0.105539</td>\n",
              "    </tr>\n",
              "    <tr>\n",
              "      <th>2013-01-03</th>\n",
              "      <td>-0.825351</td>\n",
              "      <td>-0.626774</td>\n",
              "      <td>1.244463</td>\n",
              "      <td>-1.356984</td>\n",
              "    </tr>\n",
              "    <tr>\n",
              "      <th>2013-01-04</th>\n",
              "      <td>0.033291</td>\n",
              "      <td>0.367692</td>\n",
              "      <td>0.522450</td>\n",
              "      <td>-0.189933</td>\n",
              "    </tr>\n",
              "    <tr>\n",
              "      <th>2013-01-05</th>\n",
              "      <td>0.205713</td>\n",
              "      <td>-1.526051</td>\n",
              "      <td>-0.999743</td>\n",
              "      <td>-0.804062</td>\n",
              "    </tr>\n",
              "    <tr>\n",
              "      <th>2013-01-06</th>\n",
              "      <td>-1.128638</td>\n",
              "      <td>-0.545958</td>\n",
              "      <td>0.248440</td>\n",
              "      <td>0.185419</td>\n",
              "    </tr>\n",
              "  </tbody>\n",
              "</table>\n",
              "</div>"
            ],
            "text/plain": [
              "                   D         C         B         A\n",
              "2013-01-01 -1.200824 -0.051236  1.799286  0.292302\n",
              "2013-01-02  1.113292  1.098312  0.078794  0.105539\n",
              "2013-01-03 -0.825351 -0.626774  1.244463 -1.356984\n",
              "2013-01-04  0.033291  0.367692  0.522450 -0.189933\n",
              "2013-01-05  0.205713 -1.526051 -0.999743 -0.804062\n",
              "2013-01-06 -1.128638 -0.545958  0.248440  0.185419"
            ]
          },
          "metadata": {
            "tags": []
          },
          "execution_count": 28
        }
      ]
    },
    {
      "cell_type": "code",
      "metadata": {
        "colab": {
          "base_uri": "https://localhost:8080/",
          "height": 235
        },
        "id": "tPRi47zePAmk",
        "outputId": "9f566417-cee7-4bc9-e90d-7900cdebd8f3"
      },
      "source": [
        "df.sort_values(by=\"B\",ascending=True)"
      ],
      "execution_count": null,
      "outputs": [
        {
          "output_type": "execute_result",
          "data": {
            "text/html": [
              "<div>\n",
              "<style scoped>\n",
              "    .dataframe tbody tr th:only-of-type {\n",
              "        vertical-align: middle;\n",
              "    }\n",
              "\n",
              "    .dataframe tbody tr th {\n",
              "        vertical-align: top;\n",
              "    }\n",
              "\n",
              "    .dataframe thead th {\n",
              "        text-align: right;\n",
              "    }\n",
              "</style>\n",
              "<table border=\"1\" class=\"dataframe\">\n",
              "  <thead>\n",
              "    <tr style=\"text-align: right;\">\n",
              "      <th></th>\n",
              "      <th>A</th>\n",
              "      <th>B</th>\n",
              "      <th>C</th>\n",
              "      <th>D</th>\n",
              "    </tr>\n",
              "  </thead>\n",
              "  <tbody>\n",
              "    <tr>\n",
              "      <th>2013-01-05</th>\n",
              "      <td>-0.804062</td>\n",
              "      <td>-0.999743</td>\n",
              "      <td>-1.526051</td>\n",
              "      <td>0.205713</td>\n",
              "    </tr>\n",
              "    <tr>\n",
              "      <th>2013-01-02</th>\n",
              "      <td>0.105539</td>\n",
              "      <td>0.078794</td>\n",
              "      <td>1.098312</td>\n",
              "      <td>1.113292</td>\n",
              "    </tr>\n",
              "    <tr>\n",
              "      <th>2013-01-06</th>\n",
              "      <td>0.185419</td>\n",
              "      <td>0.248440</td>\n",
              "      <td>-0.545958</td>\n",
              "      <td>-1.128638</td>\n",
              "    </tr>\n",
              "    <tr>\n",
              "      <th>2013-01-04</th>\n",
              "      <td>-0.189933</td>\n",
              "      <td>0.522450</td>\n",
              "      <td>0.367692</td>\n",
              "      <td>0.033291</td>\n",
              "    </tr>\n",
              "    <tr>\n",
              "      <th>2013-01-03</th>\n",
              "      <td>-1.356984</td>\n",
              "      <td>1.244463</td>\n",
              "      <td>-0.626774</td>\n",
              "      <td>-0.825351</td>\n",
              "    </tr>\n",
              "    <tr>\n",
              "      <th>2013-01-01</th>\n",
              "      <td>0.292302</td>\n",
              "      <td>1.799286</td>\n",
              "      <td>-0.051236</td>\n",
              "      <td>-1.200824</td>\n",
              "    </tr>\n",
              "  </tbody>\n",
              "</table>\n",
              "</div>"
            ],
            "text/plain": [
              "                   A         B         C         D\n",
              "2013-01-05 -0.804062 -0.999743 -1.526051  0.205713\n",
              "2013-01-02  0.105539  0.078794  1.098312  1.113292\n",
              "2013-01-06  0.185419  0.248440 -0.545958 -1.128638\n",
              "2013-01-04 -0.189933  0.522450  0.367692  0.033291\n",
              "2013-01-03 -1.356984  1.244463 -0.626774 -0.825351\n",
              "2013-01-01  0.292302  1.799286 -0.051236 -1.200824"
            ]
          },
          "metadata": {
            "tags": []
          },
          "execution_count": 30
        }
      ]
    },
    {
      "cell_type": "code",
      "metadata": {
        "colab": {
          "base_uri": "https://localhost:8080/"
        },
        "id": "e2tEH7AvPD-n",
        "outputId": "0f7260be-5fd5-4857-e26e-41980a5ee294"
      },
      "source": [
        "df.A"
      ],
      "execution_count": null,
      "outputs": [
        {
          "output_type": "execute_result",
          "data": {
            "text/plain": [
              "2013-01-01    0.292302\n",
              "2013-01-02    0.105539\n",
              "2013-01-03   -1.356984\n",
              "2013-01-04   -0.189933\n",
              "2013-01-05   -0.804062\n",
              "2013-01-06    0.185419\n",
              "Freq: D, Name: A, dtype: float64"
            ]
          },
          "metadata": {
            "tags": []
          },
          "execution_count": 31
        }
      ]
    },
    {
      "cell_type": "code",
      "metadata": {
        "colab": {
          "base_uri": "https://localhost:8080/"
        },
        "id": "HTwTF0R5TDmb",
        "outputId": "755d7477-b6fa-406c-843a-e2b5798148eb"
      },
      "source": [
        "df.B"
      ],
      "execution_count": null,
      "outputs": [
        {
          "output_type": "execute_result",
          "data": {
            "text/plain": [
              "2013-01-01    1.799286\n",
              "2013-01-02    0.078794\n",
              "2013-01-03    1.244463\n",
              "2013-01-04    0.522450\n",
              "2013-01-05   -0.999743\n",
              "2013-01-06    0.248440\n",
              "Freq: D, Name: B, dtype: float64"
            ]
          },
          "metadata": {
            "tags": []
          },
          "execution_count": 32
        }
      ]
    },
    {
      "cell_type": "code",
      "metadata": {
        "colab": {
          "base_uri": "https://localhost:8080/",
          "height": 142
        },
        "id": "clOlKrirTFpj",
        "outputId": "bf09464d-9191-45b7-e99a-601086f68809"
      },
      "source": [
        "df[\"20130102\":\"20130104\"]"
      ],
      "execution_count": null,
      "outputs": [
        {
          "output_type": "execute_result",
          "data": {
            "text/html": [
              "<div>\n",
              "<style scoped>\n",
              "    .dataframe tbody tr th:only-of-type {\n",
              "        vertical-align: middle;\n",
              "    }\n",
              "\n",
              "    .dataframe tbody tr th {\n",
              "        vertical-align: top;\n",
              "    }\n",
              "\n",
              "    .dataframe thead th {\n",
              "        text-align: right;\n",
              "    }\n",
              "</style>\n",
              "<table border=\"1\" class=\"dataframe\">\n",
              "  <thead>\n",
              "    <tr style=\"text-align: right;\">\n",
              "      <th></th>\n",
              "      <th>A</th>\n",
              "      <th>B</th>\n",
              "      <th>C</th>\n",
              "      <th>D</th>\n",
              "    </tr>\n",
              "  </thead>\n",
              "  <tbody>\n",
              "    <tr>\n",
              "      <th>2013-01-02</th>\n",
              "      <td>0.105539</td>\n",
              "      <td>0.078794</td>\n",
              "      <td>1.098312</td>\n",
              "      <td>1.113292</td>\n",
              "    </tr>\n",
              "    <tr>\n",
              "      <th>2013-01-03</th>\n",
              "      <td>-1.356984</td>\n",
              "      <td>1.244463</td>\n",
              "      <td>-0.626774</td>\n",
              "      <td>-0.825351</td>\n",
              "    </tr>\n",
              "    <tr>\n",
              "      <th>2013-01-04</th>\n",
              "      <td>-0.189933</td>\n",
              "      <td>0.522450</td>\n",
              "      <td>0.367692</td>\n",
              "      <td>0.033291</td>\n",
              "    </tr>\n",
              "  </tbody>\n",
              "</table>\n",
              "</div>"
            ],
            "text/plain": [
              "                   A         B         C         D\n",
              "2013-01-02  0.105539  0.078794  1.098312  1.113292\n",
              "2013-01-03 -1.356984  1.244463 -0.626774 -0.825351\n",
              "2013-01-04 -0.189933  0.522450  0.367692  0.033291"
            ]
          },
          "metadata": {
            "tags": []
          },
          "execution_count": 34
        }
      ]
    },
    {
      "cell_type": "code",
      "metadata": {
        "colab": {
          "base_uri": "https://localhost:8080/",
          "height": 111
        },
        "id": "AwDOzFOFTfmP",
        "outputId": "e8a41c3c-3b65-49b0-f68b-b4465392fef8"
      },
      "source": [
        "df[:2]"
      ],
      "execution_count": null,
      "outputs": [
        {
          "output_type": "execute_result",
          "data": {
            "text/html": [
              "<div>\n",
              "<style scoped>\n",
              "    .dataframe tbody tr th:only-of-type {\n",
              "        vertical-align: middle;\n",
              "    }\n",
              "\n",
              "    .dataframe tbody tr th {\n",
              "        vertical-align: top;\n",
              "    }\n",
              "\n",
              "    .dataframe thead th {\n",
              "        text-align: right;\n",
              "    }\n",
              "</style>\n",
              "<table border=\"1\" class=\"dataframe\">\n",
              "  <thead>\n",
              "    <tr style=\"text-align: right;\">\n",
              "      <th></th>\n",
              "      <th>A</th>\n",
              "      <th>B</th>\n",
              "      <th>C</th>\n",
              "      <th>D</th>\n",
              "    </tr>\n",
              "  </thead>\n",
              "  <tbody>\n",
              "    <tr>\n",
              "      <th>2013-01-01</th>\n",
              "      <td>0.292302</td>\n",
              "      <td>1.799286</td>\n",
              "      <td>-0.051236</td>\n",
              "      <td>-1.200824</td>\n",
              "    </tr>\n",
              "    <tr>\n",
              "      <th>2013-01-02</th>\n",
              "      <td>0.105539</td>\n",
              "      <td>0.078794</td>\n",
              "      <td>1.098312</td>\n",
              "      <td>1.113292</td>\n",
              "    </tr>\n",
              "  </tbody>\n",
              "</table>\n",
              "</div>"
            ],
            "text/plain": [
              "                   A         B         C         D\n",
              "2013-01-01  0.292302  1.799286 -0.051236 -1.200824\n",
              "2013-01-02  0.105539  0.078794  1.098312  1.113292"
            ]
          },
          "metadata": {
            "tags": []
          },
          "execution_count": 35
        }
      ]
    },
    {
      "cell_type": "code",
      "metadata": {
        "colab": {
          "base_uri": "https://localhost:8080/"
        },
        "id": "cHhAbG9_TnhV",
        "outputId": "2a12c11c-6557-4c48-bf95-4f5b6a8d556e"
      },
      "source": [
        "df.loc[dates[0]]"
      ],
      "execution_count": null,
      "outputs": [
        {
          "output_type": "execute_result",
          "data": {
            "text/plain": [
              "A    0.292302\n",
              "B    1.799286\n",
              "C   -0.051236\n",
              "D   -1.200824\n",
              "Name: 2013-01-01 00:00:00, dtype: float64"
            ]
          },
          "metadata": {
            "tags": []
          },
          "execution_count": 36
        }
      ]
    },
    {
      "cell_type": "code",
      "metadata": {
        "colab": {
          "base_uri": "https://localhost:8080/",
          "height": 235
        },
        "id": "Us342U05Tyvb",
        "outputId": "93cb287c-2a9e-459e-fbb3-55887f3279bb"
      },
      "source": [
        "df.loc[:, [\"A\", \"B\"]]"
      ],
      "execution_count": null,
      "outputs": [
        {
          "output_type": "execute_result",
          "data": {
            "text/html": [
              "<div>\n",
              "<style scoped>\n",
              "    .dataframe tbody tr th:only-of-type {\n",
              "        vertical-align: middle;\n",
              "    }\n",
              "\n",
              "    .dataframe tbody tr th {\n",
              "        vertical-align: top;\n",
              "    }\n",
              "\n",
              "    .dataframe thead th {\n",
              "        text-align: right;\n",
              "    }\n",
              "</style>\n",
              "<table border=\"1\" class=\"dataframe\">\n",
              "  <thead>\n",
              "    <tr style=\"text-align: right;\">\n",
              "      <th></th>\n",
              "      <th>A</th>\n",
              "      <th>B</th>\n",
              "    </tr>\n",
              "  </thead>\n",
              "  <tbody>\n",
              "    <tr>\n",
              "      <th>2013-01-01</th>\n",
              "      <td>0.292302</td>\n",
              "      <td>1.799286</td>\n",
              "    </tr>\n",
              "    <tr>\n",
              "      <th>2013-01-02</th>\n",
              "      <td>0.105539</td>\n",
              "      <td>0.078794</td>\n",
              "    </tr>\n",
              "    <tr>\n",
              "      <th>2013-01-03</th>\n",
              "      <td>-1.356984</td>\n",
              "      <td>1.244463</td>\n",
              "    </tr>\n",
              "    <tr>\n",
              "      <th>2013-01-04</th>\n",
              "      <td>-0.189933</td>\n",
              "      <td>0.522450</td>\n",
              "    </tr>\n",
              "    <tr>\n",
              "      <th>2013-01-05</th>\n",
              "      <td>-0.804062</td>\n",
              "      <td>-0.999743</td>\n",
              "    </tr>\n",
              "    <tr>\n",
              "      <th>2013-01-06</th>\n",
              "      <td>0.185419</td>\n",
              "      <td>0.248440</td>\n",
              "    </tr>\n",
              "  </tbody>\n",
              "</table>\n",
              "</div>"
            ],
            "text/plain": [
              "                   A         B\n",
              "2013-01-01  0.292302  1.799286\n",
              "2013-01-02  0.105539  0.078794\n",
              "2013-01-03 -1.356984  1.244463\n",
              "2013-01-04 -0.189933  0.522450\n",
              "2013-01-05 -0.804062 -0.999743\n",
              "2013-01-06  0.185419  0.248440"
            ]
          },
          "metadata": {
            "tags": []
          },
          "execution_count": 37
        }
      ]
    },
    {
      "cell_type": "code",
      "metadata": {
        "colab": {
          "base_uri": "https://localhost:8080/",
          "height": 142
        },
        "id": "XaETmy40T4_h",
        "outputId": "daf50449-1a08-4ecd-a834-bb8ed576acc2"
      },
      "source": [
        "df.loc[\"20130102\":\"20130104\", [\"A\", \"B\"]]"
      ],
      "execution_count": null,
      "outputs": [
        {
          "output_type": "execute_result",
          "data": {
            "text/html": [
              "<div>\n",
              "<style scoped>\n",
              "    .dataframe tbody tr th:only-of-type {\n",
              "        vertical-align: middle;\n",
              "    }\n",
              "\n",
              "    .dataframe tbody tr th {\n",
              "        vertical-align: top;\n",
              "    }\n",
              "\n",
              "    .dataframe thead th {\n",
              "        text-align: right;\n",
              "    }\n",
              "</style>\n",
              "<table border=\"1\" class=\"dataframe\">\n",
              "  <thead>\n",
              "    <tr style=\"text-align: right;\">\n",
              "      <th></th>\n",
              "      <th>A</th>\n",
              "      <th>B</th>\n",
              "    </tr>\n",
              "  </thead>\n",
              "  <tbody>\n",
              "    <tr>\n",
              "      <th>2013-01-02</th>\n",
              "      <td>0.105539</td>\n",
              "      <td>0.078794</td>\n",
              "    </tr>\n",
              "    <tr>\n",
              "      <th>2013-01-03</th>\n",
              "      <td>-1.356984</td>\n",
              "      <td>1.244463</td>\n",
              "    </tr>\n",
              "    <tr>\n",
              "      <th>2013-01-04</th>\n",
              "      <td>-0.189933</td>\n",
              "      <td>0.522450</td>\n",
              "    </tr>\n",
              "  </tbody>\n",
              "</table>\n",
              "</div>"
            ],
            "text/plain": [
              "                   A         B\n",
              "2013-01-02  0.105539  0.078794\n",
              "2013-01-03 -1.356984  1.244463\n",
              "2013-01-04 -0.189933  0.522450"
            ]
          },
          "metadata": {
            "tags": []
          },
          "execution_count": 38
        }
      ]
    },
    {
      "cell_type": "code",
      "metadata": {
        "colab": {
          "base_uri": "https://localhost:8080/"
        },
        "id": "4tgJ9jmET9vu",
        "outputId": "0309c879-bdf3-4eb7-ad01-b214c6ad9ba2"
      },
      "source": [
        "df.loc[\"20130102\", [\"A\", \"B\"]]"
      ],
      "execution_count": null,
      "outputs": [
        {
          "output_type": "execute_result",
          "data": {
            "text/plain": [
              "A    0.105539\n",
              "B    0.078794\n",
              "Name: 2013-01-02 00:00:00, dtype: float64"
            ]
          },
          "metadata": {
            "tags": []
          },
          "execution_count": 39
        }
      ]
    },
    {
      "cell_type": "code",
      "metadata": {
        "colab": {
          "base_uri": "https://localhost:8080/"
        },
        "id": "3Suts0DUUc1r",
        "outputId": "b3e1c00a-d5f3-4478-980e-4be4ed2e6f6e"
      },
      "source": [
        "df.loc[dates[0], \"A\"]"
      ],
      "execution_count": null,
      "outputs": [
        {
          "output_type": "execute_result",
          "data": {
            "text/plain": [
              "0.29230211388578253"
            ]
          },
          "metadata": {
            "tags": []
          },
          "execution_count": 40
        }
      ]
    },
    {
      "cell_type": "code",
      "metadata": {
        "colab": {
          "base_uri": "https://localhost:8080/"
        },
        "id": "Mnx3tb3XUhpZ",
        "outputId": "b0ad1971-7f56-4b60-8128-5fe9151ac060"
      },
      "source": [
        "df.at[dates[0], \"A\"]"
      ],
      "execution_count": null,
      "outputs": [
        {
          "output_type": "execute_result",
          "data": {
            "text/plain": [
              "0.29230211388578253"
            ]
          },
          "metadata": {
            "tags": []
          },
          "execution_count": 41
        }
      ]
    },
    {
      "cell_type": "code",
      "metadata": {
        "colab": {
          "base_uri": "https://localhost:8080/"
        },
        "id": "QluJkw0lUixz",
        "outputId": "d1b15a97-d4e2-42b6-8b4a-277f27a3e2d4"
      },
      "source": [
        "df.iat[0,0]"
      ],
      "execution_count": null,
      "outputs": [
        {
          "output_type": "execute_result",
          "data": {
            "text/plain": [
              "0.29230211388578253"
            ]
          },
          "metadata": {
            "tags": []
          },
          "execution_count": 43
        }
      ]
    },
    {
      "cell_type": "code",
      "metadata": {
        "colab": {
          "base_uri": "https://localhost:8080/",
          "height": 235
        },
        "id": "Sa-alqwEUqr3",
        "outputId": "ffe605de-20a3-46fa-8b30-02dfe02fd2dc"
      },
      "source": [
        "df\n"
      ],
      "execution_count": null,
      "outputs": [
        {
          "output_type": "execute_result",
          "data": {
            "text/html": [
              "<div>\n",
              "<style scoped>\n",
              "    .dataframe tbody tr th:only-of-type {\n",
              "        vertical-align: middle;\n",
              "    }\n",
              "\n",
              "    .dataframe tbody tr th {\n",
              "        vertical-align: top;\n",
              "    }\n",
              "\n",
              "    .dataframe thead th {\n",
              "        text-align: right;\n",
              "    }\n",
              "</style>\n",
              "<table border=\"1\" class=\"dataframe\">\n",
              "  <thead>\n",
              "    <tr style=\"text-align: right;\">\n",
              "      <th></th>\n",
              "      <th>A</th>\n",
              "      <th>B</th>\n",
              "      <th>C</th>\n",
              "      <th>D</th>\n",
              "    </tr>\n",
              "  </thead>\n",
              "  <tbody>\n",
              "    <tr>\n",
              "      <th>2013-01-01</th>\n",
              "      <td>0.292302</td>\n",
              "      <td>1.799286</td>\n",
              "      <td>-0.051236</td>\n",
              "      <td>-1.200824</td>\n",
              "    </tr>\n",
              "    <tr>\n",
              "      <th>2013-01-02</th>\n",
              "      <td>0.105539</td>\n",
              "      <td>0.078794</td>\n",
              "      <td>1.098312</td>\n",
              "      <td>1.113292</td>\n",
              "    </tr>\n",
              "    <tr>\n",
              "      <th>2013-01-03</th>\n",
              "      <td>-1.356984</td>\n",
              "      <td>1.244463</td>\n",
              "      <td>-0.626774</td>\n",
              "      <td>-0.825351</td>\n",
              "    </tr>\n",
              "    <tr>\n",
              "      <th>2013-01-04</th>\n",
              "      <td>-0.189933</td>\n",
              "      <td>0.522450</td>\n",
              "      <td>0.367692</td>\n",
              "      <td>0.033291</td>\n",
              "    </tr>\n",
              "    <tr>\n",
              "      <th>2013-01-05</th>\n",
              "      <td>-0.804062</td>\n",
              "      <td>-0.999743</td>\n",
              "      <td>-1.526051</td>\n",
              "      <td>0.205713</td>\n",
              "    </tr>\n",
              "    <tr>\n",
              "      <th>2013-01-06</th>\n",
              "      <td>0.185419</td>\n",
              "      <td>0.248440</td>\n",
              "      <td>-0.545958</td>\n",
              "      <td>-1.128638</td>\n",
              "    </tr>\n",
              "  </tbody>\n",
              "</table>\n",
              "</div>"
            ],
            "text/plain": [
              "                   A         B         C         D\n",
              "2013-01-01  0.292302  1.799286 -0.051236 -1.200824\n",
              "2013-01-02  0.105539  0.078794  1.098312  1.113292\n",
              "2013-01-03 -1.356984  1.244463 -0.626774 -0.825351\n",
              "2013-01-04 -0.189933  0.522450  0.367692  0.033291\n",
              "2013-01-05 -0.804062 -0.999743 -1.526051  0.205713\n",
              "2013-01-06  0.185419  0.248440 -0.545958 -1.128638"
            ]
          },
          "metadata": {
            "tags": []
          },
          "execution_count": 44
        }
      ]
    },
    {
      "cell_type": "code",
      "metadata": {
        "colab": {
          "base_uri": "https://localhost:8080/"
        },
        "id": "cxR42HVEUyZ-",
        "outputId": "76fa6ee7-01b5-4930-a26a-65513e736023"
      },
      "source": [
        "df.iloc[3]"
      ],
      "execution_count": null,
      "outputs": [
        {
          "output_type": "execute_result",
          "data": {
            "text/plain": [
              "A   -0.189933\n",
              "B    0.522450\n",
              "C    0.367692\n",
              "D    0.033291\n",
              "Name: 2013-01-04 00:00:00, dtype: float64"
            ]
          },
          "metadata": {
            "tags": []
          },
          "execution_count": 45
        }
      ]
    },
    {
      "cell_type": "code",
      "metadata": {
        "colab": {
          "base_uri": "https://localhost:8080/"
        },
        "id": "yLNjUmekU3CE",
        "outputId": "dd78b9c5-dafe-4480-8fd7-b78950106222"
      },
      "source": [
        "df.iloc[:,3]"
      ],
      "execution_count": null,
      "outputs": [
        {
          "output_type": "execute_result",
          "data": {
            "text/plain": [
              "2013-01-01   -1.200824\n",
              "2013-01-02    1.113292\n",
              "2013-01-03   -0.825351\n",
              "2013-01-04    0.033291\n",
              "2013-01-05    0.205713\n",
              "2013-01-06   -1.128638\n",
              "Freq: D, Name: D, dtype: float64"
            ]
          },
          "metadata": {
            "tags": []
          },
          "execution_count": 46
        }
      ]
    },
    {
      "cell_type": "code",
      "metadata": {
        "colab": {
          "base_uri": "https://localhost:8080/",
          "height": 235
        },
        "id": "qLVz74z1U4-j",
        "outputId": "b5367042-a368-41d8-ec76-9783a80593e6"
      },
      "source": [
        "df.iloc[:, 1:3]"
      ],
      "execution_count": null,
      "outputs": [
        {
          "output_type": "execute_result",
          "data": {
            "text/html": [
              "<div>\n",
              "<style scoped>\n",
              "    .dataframe tbody tr th:only-of-type {\n",
              "        vertical-align: middle;\n",
              "    }\n",
              "\n",
              "    .dataframe tbody tr th {\n",
              "        vertical-align: top;\n",
              "    }\n",
              "\n",
              "    .dataframe thead th {\n",
              "        text-align: right;\n",
              "    }\n",
              "</style>\n",
              "<table border=\"1\" class=\"dataframe\">\n",
              "  <thead>\n",
              "    <tr style=\"text-align: right;\">\n",
              "      <th></th>\n",
              "      <th>B</th>\n",
              "      <th>C</th>\n",
              "    </tr>\n",
              "  </thead>\n",
              "  <tbody>\n",
              "    <tr>\n",
              "      <th>2013-01-01</th>\n",
              "      <td>1.799286</td>\n",
              "      <td>-0.051236</td>\n",
              "    </tr>\n",
              "    <tr>\n",
              "      <th>2013-01-02</th>\n",
              "      <td>0.078794</td>\n",
              "      <td>1.098312</td>\n",
              "    </tr>\n",
              "    <tr>\n",
              "      <th>2013-01-03</th>\n",
              "      <td>1.244463</td>\n",
              "      <td>-0.626774</td>\n",
              "    </tr>\n",
              "    <tr>\n",
              "      <th>2013-01-04</th>\n",
              "      <td>0.522450</td>\n",
              "      <td>0.367692</td>\n",
              "    </tr>\n",
              "    <tr>\n",
              "      <th>2013-01-05</th>\n",
              "      <td>-0.999743</td>\n",
              "      <td>-1.526051</td>\n",
              "    </tr>\n",
              "    <tr>\n",
              "      <th>2013-01-06</th>\n",
              "      <td>0.248440</td>\n",
              "      <td>-0.545958</td>\n",
              "    </tr>\n",
              "  </tbody>\n",
              "</table>\n",
              "</div>"
            ],
            "text/plain": [
              "                   B         C\n",
              "2013-01-01  1.799286 -0.051236\n",
              "2013-01-02  0.078794  1.098312\n",
              "2013-01-03  1.244463 -0.626774\n",
              "2013-01-04  0.522450  0.367692\n",
              "2013-01-05 -0.999743 -1.526051\n",
              "2013-01-06  0.248440 -0.545958"
            ]
          },
          "metadata": {
            "tags": []
          },
          "execution_count": 47
        }
      ]
    },
    {
      "cell_type": "code",
      "metadata": {
        "colab": {
          "base_uri": "https://localhost:8080/",
          "height": 142
        },
        "id": "vOov2qNRVFAc",
        "outputId": "4314ad54-1b0c-4ba3-ce97-1f3801d4ce0c"
      },
      "source": [
        "df[df[\"A\"] > 0]"
      ],
      "execution_count": null,
      "outputs": [
        {
          "output_type": "execute_result",
          "data": {
            "text/html": [
              "<div>\n",
              "<style scoped>\n",
              "    .dataframe tbody tr th:only-of-type {\n",
              "        vertical-align: middle;\n",
              "    }\n",
              "\n",
              "    .dataframe tbody tr th {\n",
              "        vertical-align: top;\n",
              "    }\n",
              "\n",
              "    .dataframe thead th {\n",
              "        text-align: right;\n",
              "    }\n",
              "</style>\n",
              "<table border=\"1\" class=\"dataframe\">\n",
              "  <thead>\n",
              "    <tr style=\"text-align: right;\">\n",
              "      <th></th>\n",
              "      <th>A</th>\n",
              "      <th>B</th>\n",
              "      <th>C</th>\n",
              "      <th>D</th>\n",
              "    </tr>\n",
              "  </thead>\n",
              "  <tbody>\n",
              "    <tr>\n",
              "      <th>2013-01-01</th>\n",
              "      <td>0.292302</td>\n",
              "      <td>1.799286</td>\n",
              "      <td>-0.051236</td>\n",
              "      <td>-1.200824</td>\n",
              "    </tr>\n",
              "    <tr>\n",
              "      <th>2013-01-02</th>\n",
              "      <td>0.105539</td>\n",
              "      <td>0.078794</td>\n",
              "      <td>1.098312</td>\n",
              "      <td>1.113292</td>\n",
              "    </tr>\n",
              "    <tr>\n",
              "      <th>2013-01-06</th>\n",
              "      <td>0.185419</td>\n",
              "      <td>0.248440</td>\n",
              "      <td>-0.545958</td>\n",
              "      <td>-1.128638</td>\n",
              "    </tr>\n",
              "  </tbody>\n",
              "</table>\n",
              "</div>"
            ],
            "text/plain": [
              "                   A         B         C         D\n",
              "2013-01-01  0.292302  1.799286 -0.051236 -1.200824\n",
              "2013-01-02  0.105539  0.078794  1.098312  1.113292\n",
              "2013-01-06  0.185419  0.248440 -0.545958 -1.128638"
            ]
          },
          "metadata": {
            "tags": []
          },
          "execution_count": 48
        }
      ]
    },
    {
      "cell_type": "code",
      "metadata": {
        "colab": {
          "base_uri": "https://localhost:8080/",
          "height": 235
        },
        "id": "KzwDC1RhVgeW",
        "outputId": "2d80d068-0305-4e71-e948-ddae359d943d"
      },
      "source": [
        "df[df > 0]"
      ],
      "execution_count": null,
      "outputs": [
        {
          "output_type": "execute_result",
          "data": {
            "text/html": [
              "<div>\n",
              "<style scoped>\n",
              "    .dataframe tbody tr th:only-of-type {\n",
              "        vertical-align: middle;\n",
              "    }\n",
              "\n",
              "    .dataframe tbody tr th {\n",
              "        vertical-align: top;\n",
              "    }\n",
              "\n",
              "    .dataframe thead th {\n",
              "        text-align: right;\n",
              "    }\n",
              "</style>\n",
              "<table border=\"1\" class=\"dataframe\">\n",
              "  <thead>\n",
              "    <tr style=\"text-align: right;\">\n",
              "      <th></th>\n",
              "      <th>A</th>\n",
              "      <th>B</th>\n",
              "      <th>C</th>\n",
              "      <th>D</th>\n",
              "    </tr>\n",
              "  </thead>\n",
              "  <tbody>\n",
              "    <tr>\n",
              "      <th>2013-01-01</th>\n",
              "      <td>0.292302</td>\n",
              "      <td>1.799286</td>\n",
              "      <td>NaN</td>\n",
              "      <td>NaN</td>\n",
              "    </tr>\n",
              "    <tr>\n",
              "      <th>2013-01-02</th>\n",
              "      <td>0.105539</td>\n",
              "      <td>0.078794</td>\n",
              "      <td>1.098312</td>\n",
              "      <td>1.113292</td>\n",
              "    </tr>\n",
              "    <tr>\n",
              "      <th>2013-01-03</th>\n",
              "      <td>NaN</td>\n",
              "      <td>1.244463</td>\n",
              "      <td>NaN</td>\n",
              "      <td>NaN</td>\n",
              "    </tr>\n",
              "    <tr>\n",
              "      <th>2013-01-04</th>\n",
              "      <td>NaN</td>\n",
              "      <td>0.522450</td>\n",
              "      <td>0.367692</td>\n",
              "      <td>0.033291</td>\n",
              "    </tr>\n",
              "    <tr>\n",
              "      <th>2013-01-05</th>\n",
              "      <td>NaN</td>\n",
              "      <td>NaN</td>\n",
              "      <td>NaN</td>\n",
              "      <td>0.205713</td>\n",
              "    </tr>\n",
              "    <tr>\n",
              "      <th>2013-01-06</th>\n",
              "      <td>0.185419</td>\n",
              "      <td>0.248440</td>\n",
              "      <td>NaN</td>\n",
              "      <td>NaN</td>\n",
              "    </tr>\n",
              "  </tbody>\n",
              "</table>\n",
              "</div>"
            ],
            "text/plain": [
              "                   A         B         C         D\n",
              "2013-01-01  0.292302  1.799286       NaN       NaN\n",
              "2013-01-02  0.105539  0.078794  1.098312  1.113292\n",
              "2013-01-03       NaN  1.244463       NaN       NaN\n",
              "2013-01-04       NaN  0.522450  0.367692  0.033291\n",
              "2013-01-05       NaN       NaN       NaN  0.205713\n",
              "2013-01-06  0.185419  0.248440       NaN       NaN"
            ]
          },
          "metadata": {
            "tags": []
          },
          "execution_count": 50
        }
      ]
    },
    {
      "cell_type": "code",
      "metadata": {
        "colab": {
          "base_uri": "https://localhost:8080/",
          "height": 235
        },
        "id": "MEP_46ugVnGr",
        "outputId": "43e2095c-3096-41ed-94ba-3f28435d66b1"
      },
      "source": [
        "df2 = df.copy()\n",
        "df2[\"E\"] = [\"one\", \"one\", \"two\", \"three\", \"four\", \"three\"]\n",
        "df2"
      ],
      "execution_count": null,
      "outputs": [
        {
          "output_type": "execute_result",
          "data": {
            "text/html": [
              "<div>\n",
              "<style scoped>\n",
              "    .dataframe tbody tr th:only-of-type {\n",
              "        vertical-align: middle;\n",
              "    }\n",
              "\n",
              "    .dataframe tbody tr th {\n",
              "        vertical-align: top;\n",
              "    }\n",
              "\n",
              "    .dataframe thead th {\n",
              "        text-align: right;\n",
              "    }\n",
              "</style>\n",
              "<table border=\"1\" class=\"dataframe\">\n",
              "  <thead>\n",
              "    <tr style=\"text-align: right;\">\n",
              "      <th></th>\n",
              "      <th>A</th>\n",
              "      <th>B</th>\n",
              "      <th>C</th>\n",
              "      <th>D</th>\n",
              "      <th>E</th>\n",
              "    </tr>\n",
              "  </thead>\n",
              "  <tbody>\n",
              "    <tr>\n",
              "      <th>2013-01-01</th>\n",
              "      <td>0.292302</td>\n",
              "      <td>1.799286</td>\n",
              "      <td>-0.051236</td>\n",
              "      <td>-1.200824</td>\n",
              "      <td>one</td>\n",
              "    </tr>\n",
              "    <tr>\n",
              "      <th>2013-01-02</th>\n",
              "      <td>0.105539</td>\n",
              "      <td>0.078794</td>\n",
              "      <td>1.098312</td>\n",
              "      <td>1.113292</td>\n",
              "      <td>one</td>\n",
              "    </tr>\n",
              "    <tr>\n",
              "      <th>2013-01-03</th>\n",
              "      <td>-1.356984</td>\n",
              "      <td>1.244463</td>\n",
              "      <td>-0.626774</td>\n",
              "      <td>-0.825351</td>\n",
              "      <td>two</td>\n",
              "    </tr>\n",
              "    <tr>\n",
              "      <th>2013-01-04</th>\n",
              "      <td>-0.189933</td>\n",
              "      <td>0.522450</td>\n",
              "      <td>0.367692</td>\n",
              "      <td>0.033291</td>\n",
              "      <td>three</td>\n",
              "    </tr>\n",
              "    <tr>\n",
              "      <th>2013-01-05</th>\n",
              "      <td>-0.804062</td>\n",
              "      <td>-0.999743</td>\n",
              "      <td>-1.526051</td>\n",
              "      <td>0.205713</td>\n",
              "      <td>four</td>\n",
              "    </tr>\n",
              "    <tr>\n",
              "      <th>2013-01-06</th>\n",
              "      <td>0.185419</td>\n",
              "      <td>0.248440</td>\n",
              "      <td>-0.545958</td>\n",
              "      <td>-1.128638</td>\n",
              "      <td>three</td>\n",
              "    </tr>\n",
              "  </tbody>\n",
              "</table>\n",
              "</div>"
            ],
            "text/plain": [
              "                   A         B         C         D      E\n",
              "2013-01-01  0.292302  1.799286 -0.051236 -1.200824    one\n",
              "2013-01-02  0.105539  0.078794  1.098312  1.113292    one\n",
              "2013-01-03 -1.356984  1.244463 -0.626774 -0.825351    two\n",
              "2013-01-04 -0.189933  0.522450  0.367692  0.033291  three\n",
              "2013-01-05 -0.804062 -0.999743 -1.526051  0.205713   four\n",
              "2013-01-06  0.185419  0.248440 -0.545958 -1.128638  three"
            ]
          },
          "metadata": {
            "tags": []
          },
          "execution_count": 51
        }
      ]
    },
    {
      "cell_type": "code",
      "metadata": {
        "colab": {
          "base_uri": "https://localhost:8080/",
          "height": 359
        },
        "id": "Z5fOZ8lofka6",
        "outputId": "81fdc8ce-77af-4a9f-ac33-267498add1fa"
      },
      "source": [
        "df = pd.DataFrame(np.random.randn(10, 4))\n",
        "df"
      ],
      "execution_count": null,
      "outputs": [
        {
          "output_type": "execute_result",
          "data": {
            "text/html": [
              "<div>\n",
              "<style scoped>\n",
              "    .dataframe tbody tr th:only-of-type {\n",
              "        vertical-align: middle;\n",
              "    }\n",
              "\n",
              "    .dataframe tbody tr th {\n",
              "        vertical-align: top;\n",
              "    }\n",
              "\n",
              "    .dataframe thead th {\n",
              "        text-align: right;\n",
              "    }\n",
              "</style>\n",
              "<table border=\"1\" class=\"dataframe\">\n",
              "  <thead>\n",
              "    <tr style=\"text-align: right;\">\n",
              "      <th></th>\n",
              "      <th>0</th>\n",
              "      <th>1</th>\n",
              "      <th>2</th>\n",
              "      <th>3</th>\n",
              "    </tr>\n",
              "  </thead>\n",
              "  <tbody>\n",
              "    <tr>\n",
              "      <th>0</th>\n",
              "      <td>-0.449915</td>\n",
              "      <td>-1.168751</td>\n",
              "      <td>-0.339933</td>\n",
              "      <td>0.349806</td>\n",
              "    </tr>\n",
              "    <tr>\n",
              "      <th>1</th>\n",
              "      <td>0.297284</td>\n",
              "      <td>1.118756</td>\n",
              "      <td>1.173569</td>\n",
              "      <td>0.242527</td>\n",
              "    </tr>\n",
              "    <tr>\n",
              "      <th>2</th>\n",
              "      <td>-0.441951</td>\n",
              "      <td>-1.137584</td>\n",
              "      <td>-0.942504</td>\n",
              "      <td>0.552556</td>\n",
              "    </tr>\n",
              "    <tr>\n",
              "      <th>3</th>\n",
              "      <td>-0.445185</td>\n",
              "      <td>-0.034156</td>\n",
              "      <td>-0.683534</td>\n",
              "      <td>-1.683099</td>\n",
              "    </tr>\n",
              "    <tr>\n",
              "      <th>4</th>\n",
              "      <td>0.289433</td>\n",
              "      <td>1.614730</td>\n",
              "      <td>0.566001</td>\n",
              "      <td>-0.885806</td>\n",
              "    </tr>\n",
              "    <tr>\n",
              "      <th>5</th>\n",
              "      <td>-0.421027</td>\n",
              "      <td>0.527782</td>\n",
              "      <td>-0.454291</td>\n",
              "      <td>-0.583930</td>\n",
              "    </tr>\n",
              "    <tr>\n",
              "      <th>6</th>\n",
              "      <td>-0.796555</td>\n",
              "      <td>-0.058822</td>\n",
              "      <td>-0.649653</td>\n",
              "      <td>-1.627883</td>\n",
              "    </tr>\n",
              "    <tr>\n",
              "      <th>7</th>\n",
              "      <td>-0.900308</td>\n",
              "      <td>0.461032</td>\n",
              "      <td>-1.412980</td>\n",
              "      <td>0.961134</td>\n",
              "    </tr>\n",
              "    <tr>\n",
              "      <th>8</th>\n",
              "      <td>1.274750</td>\n",
              "      <td>-0.603258</td>\n",
              "      <td>-0.269273</td>\n",
              "      <td>2.057538</td>\n",
              "    </tr>\n",
              "    <tr>\n",
              "      <th>9</th>\n",
              "      <td>2.152933</td>\n",
              "      <td>-0.297487</td>\n",
              "      <td>0.613498</td>\n",
              "      <td>-1.622716</td>\n",
              "    </tr>\n",
              "  </tbody>\n",
              "</table>\n",
              "</div>"
            ],
            "text/plain": [
              "          0         1         2         3\n",
              "0 -0.449915 -1.168751 -0.339933  0.349806\n",
              "1  0.297284  1.118756  1.173569  0.242527\n",
              "2 -0.441951 -1.137584 -0.942504  0.552556\n",
              "3 -0.445185 -0.034156 -0.683534 -1.683099\n",
              "4  0.289433  1.614730  0.566001 -0.885806\n",
              "5 -0.421027  0.527782 -0.454291 -0.583930\n",
              "6 -0.796555 -0.058822 -0.649653 -1.627883\n",
              "7 -0.900308  0.461032 -1.412980  0.961134\n",
              "8  1.274750 -0.603258 -0.269273  2.057538\n",
              "9  2.152933 -0.297487  0.613498 -1.622716"
            ]
          },
          "metadata": {
            "tags": []
          },
          "execution_count": 87
        }
      ]
    },
    {
      "cell_type": "code",
      "metadata": {
        "colab": {
          "base_uri": "https://localhost:8080/"
        },
        "id": "ejr3VJlAflF9",
        "outputId": "ac4a7f15-8cc0-44ec-e116-76c0a083addc"
      },
      "source": [
        "pieces = [df[:3], df[3:7], df[7:]]\n",
        "pieces"
      ],
      "execution_count": null,
      "outputs": [
        {
          "output_type": "execute_result",
          "data": {
            "text/plain": [
              "[          0         1         2         3\n",
              " 0 -0.449915 -1.168751 -0.339933  0.349806\n",
              " 1  0.297284  1.118756  1.173569  0.242527\n",
              " 2 -0.441951 -1.137584 -0.942504  0.552556,\n",
              "           0         1         2         3\n",
              " 3 -0.445185 -0.034156 -0.683534 -1.683099\n",
              " 4  0.289433  1.614730  0.566001 -0.885806\n",
              " 5 -0.421027  0.527782 -0.454291 -0.583930\n",
              " 6 -0.796555 -0.058822 -0.649653 -1.627883,\n",
              "           0         1         2         3\n",
              " 7 -0.900308  0.461032 -1.412980  0.961134\n",
              " 8  1.274750 -0.603258 -0.269273  2.057538\n",
              " 9  2.152933 -0.297487  0.613498 -1.622716]"
            ]
          },
          "metadata": {
            "tags": []
          },
          "execution_count": 88
        }
      ]
    },
    {
      "cell_type": "code",
      "metadata": {
        "colab": {
          "base_uri": "https://localhost:8080/",
          "height": 359
        },
        "id": "Lnv-WbTEfsVo",
        "outputId": "e9f9e814-e93a-44a7-9b25-87ac967adea4"
      },
      "source": [
        "pd.concat(pieces)"
      ],
      "execution_count": null,
      "outputs": [
        {
          "output_type": "execute_result",
          "data": {
            "text/html": [
              "<div>\n",
              "<style scoped>\n",
              "    .dataframe tbody tr th:only-of-type {\n",
              "        vertical-align: middle;\n",
              "    }\n",
              "\n",
              "    .dataframe tbody tr th {\n",
              "        vertical-align: top;\n",
              "    }\n",
              "\n",
              "    .dataframe thead th {\n",
              "        text-align: right;\n",
              "    }\n",
              "</style>\n",
              "<table border=\"1\" class=\"dataframe\">\n",
              "  <thead>\n",
              "    <tr style=\"text-align: right;\">\n",
              "      <th></th>\n",
              "      <th>0</th>\n",
              "      <th>1</th>\n",
              "      <th>2</th>\n",
              "      <th>3</th>\n",
              "    </tr>\n",
              "  </thead>\n",
              "  <tbody>\n",
              "    <tr>\n",
              "      <th>0</th>\n",
              "      <td>-0.449915</td>\n",
              "      <td>-1.168751</td>\n",
              "      <td>-0.339933</td>\n",
              "      <td>0.349806</td>\n",
              "    </tr>\n",
              "    <tr>\n",
              "      <th>1</th>\n",
              "      <td>0.297284</td>\n",
              "      <td>1.118756</td>\n",
              "      <td>1.173569</td>\n",
              "      <td>0.242527</td>\n",
              "    </tr>\n",
              "    <tr>\n",
              "      <th>2</th>\n",
              "      <td>-0.441951</td>\n",
              "      <td>-1.137584</td>\n",
              "      <td>-0.942504</td>\n",
              "      <td>0.552556</td>\n",
              "    </tr>\n",
              "    <tr>\n",
              "      <th>3</th>\n",
              "      <td>-0.445185</td>\n",
              "      <td>-0.034156</td>\n",
              "      <td>-0.683534</td>\n",
              "      <td>-1.683099</td>\n",
              "    </tr>\n",
              "    <tr>\n",
              "      <th>4</th>\n",
              "      <td>0.289433</td>\n",
              "      <td>1.614730</td>\n",
              "      <td>0.566001</td>\n",
              "      <td>-0.885806</td>\n",
              "    </tr>\n",
              "    <tr>\n",
              "      <th>5</th>\n",
              "      <td>-0.421027</td>\n",
              "      <td>0.527782</td>\n",
              "      <td>-0.454291</td>\n",
              "      <td>-0.583930</td>\n",
              "    </tr>\n",
              "    <tr>\n",
              "      <th>6</th>\n",
              "      <td>-0.796555</td>\n",
              "      <td>-0.058822</td>\n",
              "      <td>-0.649653</td>\n",
              "      <td>-1.627883</td>\n",
              "    </tr>\n",
              "    <tr>\n",
              "      <th>7</th>\n",
              "      <td>-0.900308</td>\n",
              "      <td>0.461032</td>\n",
              "      <td>-1.412980</td>\n",
              "      <td>0.961134</td>\n",
              "    </tr>\n",
              "    <tr>\n",
              "      <th>8</th>\n",
              "      <td>1.274750</td>\n",
              "      <td>-0.603258</td>\n",
              "      <td>-0.269273</td>\n",
              "      <td>2.057538</td>\n",
              "    </tr>\n",
              "    <tr>\n",
              "      <th>9</th>\n",
              "      <td>2.152933</td>\n",
              "      <td>-0.297487</td>\n",
              "      <td>0.613498</td>\n",
              "      <td>-1.622716</td>\n",
              "    </tr>\n",
              "  </tbody>\n",
              "</table>\n",
              "</div>"
            ],
            "text/plain": [
              "          0         1         2         3\n",
              "0 -0.449915 -1.168751 -0.339933  0.349806\n",
              "1  0.297284  1.118756  1.173569  0.242527\n",
              "2 -0.441951 -1.137584 -0.942504  0.552556\n",
              "3 -0.445185 -0.034156 -0.683534 -1.683099\n",
              "4  0.289433  1.614730  0.566001 -0.885806\n",
              "5 -0.421027  0.527782 -0.454291 -0.583930\n",
              "6 -0.796555 -0.058822 -0.649653 -1.627883\n",
              "7 -0.900308  0.461032 -1.412980  0.961134\n",
              "8  1.274750 -0.603258 -0.269273  2.057538\n",
              "9  2.152933 -0.297487  0.613498 -1.622716"
            ]
          },
          "metadata": {
            "tags": []
          },
          "execution_count": 89
        }
      ]
    },
    {
      "cell_type": "code",
      "metadata": {
        "colab": {
          "base_uri": "https://localhost:8080/",
          "height": 111
        },
        "id": "9NPUKNEffxL8",
        "outputId": "6ce02dd1-7b34-4fc6-adc9-b6c8154ca2ec"
      },
      "source": [
        "left = pd.DataFrame({\"key\": [\"foo\", \"foo\"], \"lval\": [1, 2]})\n",
        "left"
      ],
      "execution_count": null,
      "outputs": [
        {
          "output_type": "execute_result",
          "data": {
            "text/html": [
              "<div>\n",
              "<style scoped>\n",
              "    .dataframe tbody tr th:only-of-type {\n",
              "        vertical-align: middle;\n",
              "    }\n",
              "\n",
              "    .dataframe tbody tr th {\n",
              "        vertical-align: top;\n",
              "    }\n",
              "\n",
              "    .dataframe thead th {\n",
              "        text-align: right;\n",
              "    }\n",
              "</style>\n",
              "<table border=\"1\" class=\"dataframe\">\n",
              "  <thead>\n",
              "    <tr style=\"text-align: right;\">\n",
              "      <th></th>\n",
              "      <th>key</th>\n",
              "      <th>lval</th>\n",
              "    </tr>\n",
              "  </thead>\n",
              "  <tbody>\n",
              "    <tr>\n",
              "      <th>0</th>\n",
              "      <td>foo</td>\n",
              "      <td>1</td>\n",
              "    </tr>\n",
              "    <tr>\n",
              "      <th>1</th>\n",
              "      <td>foo</td>\n",
              "      <td>2</td>\n",
              "    </tr>\n",
              "  </tbody>\n",
              "</table>\n",
              "</div>"
            ],
            "text/plain": [
              "   key  lval\n",
              "0  foo     1\n",
              "1  foo     2"
            ]
          },
          "metadata": {
            "tags": []
          },
          "execution_count": 90
        }
      ]
    },
    {
      "cell_type": "code",
      "metadata": {
        "colab": {
          "base_uri": "https://localhost:8080/",
          "height": 111
        },
        "id": "3oFkpJl6g1Ni",
        "outputId": "c3157c0c-6c6c-448a-fcde-c1166f7263a0"
      },
      "source": [
        "right = pd.DataFrame({\"key\": [\"foo\", \"foo\"], \"rval\": [4, 5]})\n",
        "right"
      ],
      "execution_count": null,
      "outputs": [
        {
          "output_type": "execute_result",
          "data": {
            "text/html": [
              "<div>\n",
              "<style scoped>\n",
              "    .dataframe tbody tr th:only-of-type {\n",
              "        vertical-align: middle;\n",
              "    }\n",
              "\n",
              "    .dataframe tbody tr th {\n",
              "        vertical-align: top;\n",
              "    }\n",
              "\n",
              "    .dataframe thead th {\n",
              "        text-align: right;\n",
              "    }\n",
              "</style>\n",
              "<table border=\"1\" class=\"dataframe\">\n",
              "  <thead>\n",
              "    <tr style=\"text-align: right;\">\n",
              "      <th></th>\n",
              "      <th>key</th>\n",
              "      <th>rval</th>\n",
              "    </tr>\n",
              "  </thead>\n",
              "  <tbody>\n",
              "    <tr>\n",
              "      <th>0</th>\n",
              "      <td>foo</td>\n",
              "      <td>4</td>\n",
              "    </tr>\n",
              "    <tr>\n",
              "      <th>1</th>\n",
              "      <td>foo</td>\n",
              "      <td>5</td>\n",
              "    </tr>\n",
              "  </tbody>\n",
              "</table>\n",
              "</div>"
            ],
            "text/plain": [
              "   key  rval\n",
              "0  foo     4\n",
              "1  foo     5"
            ]
          },
          "metadata": {
            "tags": []
          },
          "execution_count": 91
        }
      ]
    },
    {
      "cell_type": "code",
      "metadata": {
        "colab": {
          "base_uri": "https://localhost:8080/",
          "height": 173
        },
        "id": "XReROQk8g4UP",
        "outputId": "ad830ab0-3f10-4435-81e3-d9caedcbb4f0"
      },
      "source": [
        "pd.merge(left, right, on=\"key\")"
      ],
      "execution_count": null,
      "outputs": [
        {
          "output_type": "execute_result",
          "data": {
            "text/html": [
              "<div>\n",
              "<style scoped>\n",
              "    .dataframe tbody tr th:only-of-type {\n",
              "        vertical-align: middle;\n",
              "    }\n",
              "\n",
              "    .dataframe tbody tr th {\n",
              "        vertical-align: top;\n",
              "    }\n",
              "\n",
              "    .dataframe thead th {\n",
              "        text-align: right;\n",
              "    }\n",
              "</style>\n",
              "<table border=\"1\" class=\"dataframe\">\n",
              "  <thead>\n",
              "    <tr style=\"text-align: right;\">\n",
              "      <th></th>\n",
              "      <th>key</th>\n",
              "      <th>lval</th>\n",
              "      <th>rval</th>\n",
              "    </tr>\n",
              "  </thead>\n",
              "  <tbody>\n",
              "    <tr>\n",
              "      <th>0</th>\n",
              "      <td>foo</td>\n",
              "      <td>1</td>\n",
              "      <td>4</td>\n",
              "    </tr>\n",
              "    <tr>\n",
              "      <th>1</th>\n",
              "      <td>foo</td>\n",
              "      <td>1</td>\n",
              "      <td>5</td>\n",
              "    </tr>\n",
              "    <tr>\n",
              "      <th>2</th>\n",
              "      <td>foo</td>\n",
              "      <td>2</td>\n",
              "      <td>4</td>\n",
              "    </tr>\n",
              "    <tr>\n",
              "      <th>3</th>\n",
              "      <td>foo</td>\n",
              "      <td>2</td>\n",
              "      <td>5</td>\n",
              "    </tr>\n",
              "  </tbody>\n",
              "</table>\n",
              "</div>"
            ],
            "text/plain": [
              "   key  lval  rval\n",
              "0  foo     1     4\n",
              "1  foo     1     5\n",
              "2  foo     2     4\n",
              "3  foo     2     5"
            ]
          },
          "metadata": {
            "tags": []
          },
          "execution_count": 92
        }
      ]
    },
    {
      "cell_type": "code",
      "metadata": {
        "colab": {
          "base_uri": "https://localhost:8080/",
          "height": 297
        },
        "id": "HfgIoDvmg7lJ",
        "outputId": "8784c291-754f-43ce-cd89-4606580ecce5"
      },
      "source": [
        "df = pd.DataFrame(\n",
        "  {\n",
        "      \"A\": [\"foo\", \"bar\", \"foo\", \"bar\", \"foo\", \"bar\", \"foo\", \"foo\"],\n",
        "      \"B\": [\"one\", \"one\", \"two\", \"three\", \"two\", \"two\", \"one\", \"three\"],\n",
        "      \"C\": np.random.randn(8),\n",
        "      \"D\": np.random.randn(8),\n",
        "  }\n",
        ")\n",
        "df"
      ],
      "execution_count": null,
      "outputs": [
        {
          "output_type": "execute_result",
          "data": {
            "text/html": [
              "<div>\n",
              "<style scoped>\n",
              "    .dataframe tbody tr th:only-of-type {\n",
              "        vertical-align: middle;\n",
              "    }\n",
              "\n",
              "    .dataframe tbody tr th {\n",
              "        vertical-align: top;\n",
              "    }\n",
              "\n",
              "    .dataframe thead th {\n",
              "        text-align: right;\n",
              "    }\n",
              "</style>\n",
              "<table border=\"1\" class=\"dataframe\">\n",
              "  <thead>\n",
              "    <tr style=\"text-align: right;\">\n",
              "      <th></th>\n",
              "      <th>A</th>\n",
              "      <th>B</th>\n",
              "      <th>C</th>\n",
              "      <th>D</th>\n",
              "    </tr>\n",
              "  </thead>\n",
              "  <tbody>\n",
              "    <tr>\n",
              "      <th>0</th>\n",
              "      <td>foo</td>\n",
              "      <td>one</td>\n",
              "      <td>0.726729</td>\n",
              "      <td>-0.212860</td>\n",
              "    </tr>\n",
              "    <tr>\n",
              "      <th>1</th>\n",
              "      <td>bar</td>\n",
              "      <td>one</td>\n",
              "      <td>0.204271</td>\n",
              "      <td>-2.144368</td>\n",
              "    </tr>\n",
              "    <tr>\n",
              "      <th>2</th>\n",
              "      <td>foo</td>\n",
              "      <td>two</td>\n",
              "      <td>-1.262413</td>\n",
              "      <td>0.353569</td>\n",
              "    </tr>\n",
              "    <tr>\n",
              "      <th>3</th>\n",
              "      <td>bar</td>\n",
              "      <td>three</td>\n",
              "      <td>-0.124210</td>\n",
              "      <td>-0.142271</td>\n",
              "    </tr>\n",
              "    <tr>\n",
              "      <th>4</th>\n",
              "      <td>foo</td>\n",
              "      <td>two</td>\n",
              "      <td>-0.469268</td>\n",
              "      <td>1.647064</td>\n",
              "    </tr>\n",
              "    <tr>\n",
              "      <th>5</th>\n",
              "      <td>bar</td>\n",
              "      <td>two</td>\n",
              "      <td>2.320646</td>\n",
              "      <td>-0.576361</td>\n",
              "    </tr>\n",
              "    <tr>\n",
              "      <th>6</th>\n",
              "      <td>foo</td>\n",
              "      <td>one</td>\n",
              "      <td>-0.111091</td>\n",
              "      <td>1.460911</td>\n",
              "    </tr>\n",
              "    <tr>\n",
              "      <th>7</th>\n",
              "      <td>foo</td>\n",
              "      <td>three</td>\n",
              "      <td>0.714736</td>\n",
              "      <td>0.187139</td>\n",
              "    </tr>\n",
              "  </tbody>\n",
              "</table>\n",
              "</div>"
            ],
            "text/plain": [
              "     A      B         C         D\n",
              "0  foo    one  0.726729 -0.212860\n",
              "1  bar    one  0.204271 -2.144368\n",
              "2  foo    two -1.262413  0.353569\n",
              "3  bar  three -0.124210 -0.142271\n",
              "4  foo    two -0.469268  1.647064\n",
              "5  bar    two  2.320646 -0.576361\n",
              "6  foo    one -0.111091  1.460911\n",
              "7  foo  three  0.714736  0.187139"
            ]
          },
          "metadata": {
            "tags": []
          },
          "execution_count": 94
        }
      ]
    },
    {
      "cell_type": "code",
      "metadata": {
        "id": "6UQS3rp3hvyJ"
      },
      "source": [
        ""
      ],
      "execution_count": null,
      "outputs": []
    }
  ]
}